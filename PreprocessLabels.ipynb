{
 "cells": [
  {
   "cell_type": "code",
   "execution_count": 1,
   "metadata": {
    "collapsed": true
   },
   "outputs": [],
   "source": [
    "import numpy as np\n",
    "import pickle\n",
    "\n",
    "from scipy import io"
   ]
  },
  {
   "cell_type": "code",
   "execution_count": 2,
   "metadata": {
    "collapsed": false
   },
   "outputs": [],
   "source": [
    "data = io.loadmat('data/labels.mat')"
   ]
  },
  {
   "cell_type": "code",
   "execution_count": 3,
   "metadata": {
    "collapsed": false
   },
   "outputs": [],
   "source": [
    "events = np.empty(len(data['event_list']), dtype=object)\n",
    "\n",
    "for i in range(len(events)):\n",
    "    events[i] = data['event_list'][i][0][0]"
   ]
  },
  {
   "cell_type": "code",
   "execution_count": 4,
   "metadata": {
    "collapsed": true
   },
   "outputs": [],
   "source": [
    "def extract_attributes(data, key):\n",
    "    attributes = np.empty([len(data[key])], dtype=object)\n",
    "\n",
    "    for i in range(len(attributes)):\n",
    "        values_in_event = len(data[key][i][0])\n",
    "        attributes[i] = np.empty(values_in_event, dtype=object)\n",
    "\n",
    "        for j in range(values_in_event):\n",
    "            attributes[i][j] = data[key][i][0][j][0][0]\n",
    "    \n",
    "    return attributes"
   ]
  },
  {
   "cell_type": "code",
   "execution_count": 5,
   "metadata": {
    "collapsed": true
   },
   "outputs": [],
   "source": [
    "img_names = extract_attributes(data, 'file_list')\n",
    "face_rectangles = extract_attributes(data, 'face_bbx_list')\n",
    "expression_labels = extract_attributes(data, 'expression_label_list')\n",
    "pose_labels = extract_attributes(data, 'pose_label_list')\n",
    "blur_labels = extract_attributes(data, 'blur_label_list')\n",
    "illumination_labels = extract_attributes(data, 'illumination_label_list')\n",
    "occlusion_labels = extract_attributes(data, 'occlusion_label_list')\n",
    "invalid_labels = extract_attributes(data, 'invalid_label_list')\n",
    "face_rectangles = extract_attributes(data, 'face_bbx_list')"
   ]
  },
  {
   "cell_type": "code",
   "execution_count": 6,
   "metadata": {
    "collapsed": false
   },
   "outputs": [],
   "source": [
    "output = {}\n",
    "output['events'] = events\n",
    "output['img_names'] = img_names\n",
    "output['face_rectangles'] = face_rectangles\n",
    "output['expression_labels'] = expression_labels\n",
    "output['pose_labels'] = pose_labels\n",
    "output['blur_labels'] = blur_labels\n",
    "output['illumination_labels'] = illumination_labels\n",
    "output['occlusion_labels'] = occlusion_labels\n",
    "output['invalid_labels'] = invalid_labels"
   ]
  },
  {
   "cell_type": "code",
   "execution_count": 7,
   "metadata": {
    "collapsed": false
   },
   "outputs": [],
   "source": [
    "with open('data/labels.pickle', 'wb') as handle:\n",
    "  pickle.dump(output, handle)"
   ]
  },
  {
   "cell_type": "code",
   "execution_count": null,
   "metadata": {
    "collapsed": true
   },
   "outputs": [],
   "source": []
  }
 ],
 "metadata": {
  "kernelspec": {
   "display_name": "Python 3",
   "language": "python",
   "name": "python3"
  },
  "language_info": {
   "codemirror_mode": {
    "name": "ipython",
    "version": 3
   },
   "file_extension": ".py",
   "mimetype": "text/x-python",
   "name": "python",
   "nbconvert_exporter": "python",
   "pygments_lexer": "ipython3",
   "version": "3.5.2"
  }
 },
 "nbformat": 4,
 "nbformat_minor": 1
}
