{
 "cells": [
  {
   "cell_type": "code",
   "execution_count": null,
   "metadata": {
    "collapsed": true
   },
   "outputs": [],
   "source": [
    "import cv2 as cv\n",
    "import glob\n",
    "import pickle\n",
    "\n",
    "from matplotlib import pyplot as plt\n",
    "from os import path\n",
    "\n",
    "%matplotlib inline"
   ]
  },
  {
   "cell_type": "code",
   "execution_count": null,
   "metadata": {
    "collapsed": false
   },
   "outputs": [],
   "source": [
    "print('Using OpenCV version', cv.__version__)"
   ]
  },
  {
   "cell_type": "code",
   "execution_count": null,
   "metadata": {
    "collapsed": false
   },
   "outputs": [],
   "source": [
    "with open('data/labels.pickle', 'rb') as handle:\n",
    "  data = pickle.load(handle)"
   ]
  },
  {
   "cell_type": "code",
   "execution_count": null,
   "metadata": {
    "collapsed": false
   },
   "outputs": [],
   "source": [
    "# Get and normalize file paths.\n",
    "img_paths = [path.normpath(p) for p in glob.iglob('data/WIDER/test/**/*.jpg', recursive=True)]\n",
    "\n",
    "face_cascade = cv.CascadeClassifier('haarcascade_frontalface_default.xml')\n",
    "\n",
    "print(len(img_paths))\n",
    "\n",
    "cv_dict = {}\n",
    "for img_path in img_paths:\n",
    "    img = cv.imread(img_path)\n",
    "    grayscale_img = cv.cvtColor(img, cv.COLOR_BGR2GRAY)\n",
    "    detected_faces = face_cascade.detectMultiScale(grayscale_img, 1.3, 5)\n",
    "    \n",
    "    img_name = path.basename(img_path)\n",
    "    cv_dict[img_name] = len(detected_faces)"
   ]
  },
  {
   "cell_type": "code",
   "execution_count": null,
   "metadata": {
    "collapsed": false
   },
   "outputs": [],
   "source": [
    "#Test performance of OpenCV\n",
    "hints = 0;\n",
    "missed = 0;\n",
    "\n",
    "for fidx, folder in enumerate(data['img_names']):\n",
    "    for idx, img_name in enumerate(folder):\n",
    "        target_detected_faces = len(data['face_rectangles'][fidx][idx])\n",
    "        predicted_detected_faces = cv_dict[img_name]\n",
    "        hints = hints + min(target_detected_faces, predicted_detected_faces)\n",
    "        missed = missed + abs(target_detected_faces - predicted_detected_faces)        "
   ]
  },
  {
   "cell_type": "code",
   "execution_count": null,
   "metadata": {
    "collapsed": true
   },
   "outputs": [],
   "source": [
    "print(hints)\n",
    "print(missed)"
   ]
  },
  {
   "cell_type": "code",
   "execution_count": null,
   "metadata": {
    "collapsed": true
   },
   "outputs": [],
   "source": []
  },
  {
   "cell_type": "code",
   "execution_count": null,
   "metadata": {
    "collapsed": true
   },
   "outputs": [],
   "source": []
  }
 ],
 "metadata": {
  "kernelspec": {
   "display_name": "Python 3",
   "language": "python",
   "name": "python3"
  },
  "language_info": {
   "codemirror_mode": {
    "name": "ipython",
    "version": 3
   },
   "file_extension": ".py",
   "mimetype": "text/x-python",
   "name": "python",
   "nbconvert_exporter": "python",
   "pygments_lexer": "ipython3",
   "version": "3.5.2"
  }
 },
 "nbformat": 4,
 "nbformat_minor": 1
}
